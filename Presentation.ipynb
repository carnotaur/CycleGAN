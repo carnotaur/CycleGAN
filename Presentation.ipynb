{
 "cells": [
  {
   "cell_type": "markdown",
   "metadata": {
    "slideshow": {
     "slide_type": "slide"
    }
   },
   "source": [
    "<center> <img src=\"pics/logo.jpg\">"
   ]
  },
  {
   "cell_type": "markdown",
   "metadata": {
    "slideshow": {
     "slide_type": "subslide"
    }
   },
   "source": [
    "### <center> <center><font size=\"6\">__CycleGAN: Image2Image__ <center></font> <br/> \n",
    "<br/><br/>\n",
    " <center>  <img src=\"pics/cycle-gan-paintings.png\">"
   ]
  },
  {
   "cell_type": "markdown",
   "metadata": {
    "slideshow": {
     "slide_type": "subslide"
    }
   },
   "source": [
    "#### <center><font size=\"6\"> Атабек Дулат - *Machine Learning Engineer* в Kolesa Group</font> </center>\n",
    "<br><br>\n",
    " <center><font size=\"6\"> Гитхаб с презентацией и кодом обучения сетки : </font> </center> \n",
    "<br><br>\n",
    " <center><font size=\"6\"> https://github.com/carnotaur/CycleGAN </font> "
   ]
  },
  {
   "cell_type": "markdown",
   "metadata": {
    "slideshow": {
     "slide_type": "subslide"
    }
   },
   "source": [
    "# <font size=\"6\">  <center>__План:__ </font> \n",
    "<br/><br/>\n",
    "<font size=\"7\"> \n",
    "1. GANs повтор \n",
    "2. Image-to-Image translation\n",
    "3. CycleGAN - в чем фишка?\n",
    "4. Generator\n",
    "5. PatchGAN discriminator\n",
    "6. Training Details\n",
    "7. Limitations of CycleGAN\n",
    "</font> "
   ]
  },
  {
   "cell_type": "markdown",
   "metadata": {
    "slideshow": {
     "slide_type": "slide"
    }
   },
   "source": [
    "# <font size=\"7\">  <center> Quick tour to GAN</font>"
   ]
  },
  {
   "cell_type": "markdown",
   "metadata": {
    "slideshow": {
     "slide_type": "subslide"
    }
   },
   "source": [
    "<center>  <img src=\"pics/gans_basic.png\">"
   ]
  },
  {
   "cell_type": "markdown",
   "metadata": {
    "slideshow": {
     "slide_type": "subslide"
    }
   },
   "source": [
    "## <font size=\"7\"> <center> Classical Adversarial Loss </font>\n",
    "<br>\n",
    "<font size=\"6\"> \n",
    "<center> $ G : X → Y $<br/>\n",
    "$ D_y  - Discriminator$ <br/><br/>\n",
    "$L_{GAN} (G, D_Y , X, Y ) = E_{y∼p_{data} (y)} [ log D_Y (y) ] \\\\\n",
    "\\hspace{6cm} + E_{x∼p_{data}(x)} [log(1 − D_Y (G(x))]$\n",
    "</font>"
   ]
  },
  {
   "cell_type": "markdown",
   "metadata": {
    "slideshow": {
     "slide_type": "slide"
    }
   },
   "source": [
    "# <center> Image-to-Image translation\n",
    "    \n",
    "<center>  <img src=\"pics/img_translation.jpg\">"
   ]
  },
  {
   "cell_type": "markdown",
   "metadata": {
    "slideshow": {
     "slide_type": "subslide"
    }
   },
   "source": [
    "# <center> CycleGAN vs Others. \n",
    "<center> (на момент выхода статьи) \n",
    "<br/><br/>\n",
    "<center>  <img src=\"pics/gan-vs-othergans.png\">"
   ]
  },
  {
   "cell_type": "markdown",
   "metadata": {
    "slideshow": {
     "slide_type": "slide"
    }
   },
   "source": [
    "# <center> CycleGAN\n",
    "<br>\n",
    " <center>  <img src=\"pics/teaser.jpg\">"
   ]
  },
  {
   "cell_type": "markdown",
   "metadata": {
    "slideshow": {
     "slide_type": "subslide"
    }
   },
   "source": [
    "# <font size=\"6\">  <center> Cycle Consistency </font>\n",
    "<font size=\"6\"> \n",
    "<center> $G : X → Y $ <br>\n",
    "<center> $F : Y → X $ <br>\n",
    "<center> $x → G(x) → F (G(x)) ≈ x$\n",
    "<center>  <img src=\"pics/cycle-gan-idea.png\">\n",
    "</font> "
   ]
  },
  {
   "cell_type": "markdown",
   "metadata": {
    "slideshow": {
     "slide_type": "subslide"
    }
   },
   "source": [
    "## <font size=\"7\"> <center> Example </font>\n",
    "<center>  <img src=\"pics/reconstruction.png\">"
   ]
  },
  {
   "cell_type": "markdown",
   "metadata": {
    "slideshow": {
     "slide_type": "subslide"
    }
   },
   "source": [
    "<font size=\"6\"> \n",
    "## <center> Cycle Consistency Loss: <br/>\n",
    "<center> $L_{cyc} (G, F ) = E_{x∼p_{data}} (x) [||F (G(x)) − x||_1 ]\n",
    "+ E_{y∼p_{data}} (y) [||G(F (y)) − y||_1 ]$\n",
    "</font> \n"
   ]
  },
  {
   "cell_type": "markdown",
   "metadata": {
    "slideshow": {
     "slide_type": "fragment"
    }
   },
   "source": [
    "<font size=\"6\"> \n",
    "## <center> Total GAN loss: <br/>\n",
    "\n",
    "<center> $ L(G, F, D_X , D_Y ) =L_{GAN} (G, D_Y , X, Y ) + L_{GAN} (F, D_X , Y, X)\n",
    "+ λL_{cyc} (G, F )$\n",
    " </font> "
   ]
  },
  {
   "cell_type": "markdown",
   "metadata": {
    "slideshow": {
     "slide_type": "fragment"
    }
   },
   "source": [
    "<center>  <img src=\"pics/cycleloss-comparison.png\">"
   ]
  },
  {
   "cell_type": "markdown",
   "metadata": {
    "slideshow": {
     "slide_type": "slide"
    }
   },
   "source": [
    "<font size=\"7\"> \n",
    "## <center> Identity Loss </center>\n",
    "</font> \n",
    "<font size=\"6\"> \n",
    "<br>\n",
    "<center> Используется для сохранения цветов при Style Transferring </center>\n",
    "<br>\n",
    "<center> $L_{identity} (G, F ) = E_{y∼p_{data}(y)}  [||G(y) − y||_1 ] +\n",
    "E_{x∼p_{data}(x)} [||F (x) − x||_1 ]$\n",
    "</font size=\"6\"> "
   ]
  },
  {
   "cell_type": "markdown",
   "metadata": {
    "slideshow": {
     "slide_type": "fragment"
    }
   },
   "source": [
    "<center>  <img src=\"pics/identity-loss-comparison.png\">"
   ]
  },
  {
   "cell_type": "markdown",
   "metadata": {
    "slideshow": {
     "slide_type": "slide"
    }
   },
   "source": [
    "# <font size=\"7\"> <center> Generator"
   ]
  },
  {
   "cell_type": "markdown",
   "metadata": {
    "slideshow": {
     "slide_type": "fragment"
    }
   },
   "source": [
    "<center>  <img src=\"pics/GeneratorArchitecture.jpg\">"
   ]
  },
  {
   "cell_type": "code",
   "execution_count": null,
   "metadata": {
    "slideshow": {
     "slide_type": "subslide"
    }
   },
   "outputs": [],
   "source": [
    "import itertools\n",
    "import torch\n",
    "import torch.nn as nn\n",
    "import torch.nn.functional as F\n",
    "from torchvision import transforms\n",
    "from PIL import Image\n",
    "import numpy as np\n",
    "import matplotlib.pyplot as plt\n",
    "%matplotlib inline"
   ]
  },
  {
   "cell_type": "code",
   "execution_count": null,
   "metadata": {
    "slideshow": {
     "slide_type": "subslide"
    }
   },
   "outputs": [],
   "source": [
    "from networks import Generator\n",
    "Generator()"
   ]
  },
  {
   "cell_type": "markdown",
   "metadata": {
    "slideshow": {
     "slide_type": "slide"
    }
   },
   "source": [
    "# <font size=\"7\">  <center> Discriminator a.k.a PatchGAN"
   ]
  },
  {
   "cell_type": "markdown",
   "metadata": {
    "slideshow": {
     "slide_type": "fragment"
    }
   },
   "source": [
    "<center>  <img src=\"pics/pathcgan.png\">"
   ]
  },
  {
   "cell_type": "markdown",
   "metadata": {
    "slideshow": {
     "slide_type": "subslide"
    }
   },
   "source": [
    "<center>  <img src=\"pics/discriminator.jpg\">"
   ]
  },
  {
   "cell_type": "code",
   "execution_count": null,
   "metadata": {
    "slideshow": {
     "slide_type": "subslide"
    }
   },
   "outputs": [],
   "source": [
    "from networks import Discriminator\n",
    "Discriminator()"
   ]
  },
  {
   "cell_type": "markdown",
   "metadata": {
    "slideshow": {
     "slide_type": "slide"
    }
   },
   "source": [
    "# <font size=\"7\"> <center> Training Details </font> \n",
    "<br> <br> \n",
    "<font size=\"5\"> \n",
    "> <center> \n",
    "    Training GANs consists in finding a Nash equilibrium to a two-player non-cooperative game. […] Unfortunately, finding Nash equilibria is a very difficult problem. \n",
    "    </center> <br><br>\n",
    "> <center>\n",
    "But with a GAN, every step taken down the hill changes the entire landscape a little. It’s a dynamic system where the optimization process is seeking not a minimum, but an equilibrium between two forces.\n",
    "    </center>\n",
    "</font> \n",
    "    \n",
    " "
   ]
  },
  {
   "cell_type": "markdown",
   "metadata": {
    "slideshow": {
     "slide_type": "subslide"
    }
   },
   "source": [
    "## <font size=\"7\"> <center> Adversarial Loss for CycleGAN: </font>\n",
    "<br>\n",
    "<font size=\"6\">\n",
    "for Generator: <br>\n",
    "<center> $min \\hspace{0.25cm} E_{x∼p_{data (x)}} [(D(G(x)) − 1) ^ 2 ]$ </center> \n",
    "<br>\n",
    "for Discriminator: <br>\n",
    "<center> $min \\hspace{0.25cm} E_{y∼p data (y)} [(D(y) − 1)^2 ] + E_{x∼p data (x)}  [D(G(x))^2 ]$</center>\n",
    "</font>"
   ]
  },
  {
   "cell_type": "markdown",
   "metadata": {
    "slideshow": {
     "slide_type": "subslide"
    }
   },
   "source": [
    "## <font size=\"7\"> <center> Hyperparameters & Showcase </center> </font>"
   ]
  },
  {
   "cell_type": "code",
   "execution_count": null,
   "metadata": {
    "slideshow": {
     "slide_type": "fragment"
    }
   },
   "outputs": [],
   "source": [
    "img_size = 256    # может быть 128\n",
    "num_epochs = 200\n",
    "batch_size = 1\n",
    "lr = 0.0002 \n",
    "betas = (0.5, 0.999)\n",
    "num_res_blocks = 6 if img_size == 128 else 9"
   ]
  },
  {
   "cell_type": "code",
   "execution_count": null,
   "metadata": {
    "slideshow": {
     "slide_type": "fragment"
    }
   },
   "outputs": [],
   "source": [
    "G_x, G_y = Generator(), Generator()\n",
    "D_x, D_y = Discriminator(), Discriminator()"
   ]
  },
  {
   "cell_type": "code",
   "execution_count": null,
   "metadata": {
    "slideshow": {
     "slide_type": "fragment"
    }
   },
   "outputs": [],
   "source": [
    "optimizer_G = torch.optim.Adam(itertools.chain(G_x.parameters(), G_y.parameters()),\n",
    "                               lr=lr, betas=betas)\n",
    "optimizer_D = torch.optim.Adam(itertools.chain(D_x.parameters(), D_y.parameters()),\n",
    "                               lr=lr, betas=betas)"
   ]
  },
  {
   "cell_type": "code",
   "execution_count": null,
   "metadata": {
    "slideshow": {
     "slide_type": "subslide"
    }
   },
   "outputs": [],
   "source": [
    "from utils import load_weights\n",
    "epoch = 12\n",
    "load_weights(G_x, G_y, D_x, D_y, optimizer_G, optimizer_D, epoch)"
   ]
  },
  {
   "cell_type": "code",
   "execution_count": null,
   "metadata": {
    "slideshow": {
     "slide_type": "fragment"
    }
   },
   "outputs": [],
   "source": [
    "path = 'pics/1_B.jpg'\n",
    "Image.open(path)"
   ]
  },
  {
   "cell_type": "code",
   "execution_count": null,
   "metadata": {
    "slideshow": {
     "slide_type": "subslide"
    }
   },
   "outputs": [],
   "source": [
    "img = transforms.ToTensor()(Image.open(path)) \n",
    "img = img.unsqueeze(0)"
   ]
  },
  {
   "cell_type": "code",
   "execution_count": null,
   "metadata": {
    "slideshow": {
     "slide_type": "fragment"
    }
   },
   "outputs": [],
   "source": [
    "fake_x = G_y(img)\n",
    "fake_x = fake_x.squeeze(0).detach()"
   ]
  },
  {
   "cell_type": "code",
   "execution_count": null,
   "metadata": {
    "slideshow": {
     "slide_type": "subslide"
    }
   },
   "outputs": [],
   "source": [
    "plt.imshow(fake_x.permute(1, 2, 0).numpy())\n",
    "plt.axis('off');"
   ]
  },
  {
   "cell_type": "markdown",
   "metadata": {
    "slideshow": {
     "slide_type": "slide"
    }
   },
   "source": [
    "# <center> GAN Failures"
   ]
  },
  {
   "cell_type": "markdown",
   "metadata": {
    "slideshow": {
     "slide_type": "fragment"
    }
   },
   "source": [
    "<font size=\"6\">\n",
    "- Limitation of Generator <br>\n",
    "- PatchGAN  <br>\n",
    "-  Skewed distirbution in datasets <br>\n",
    "</font>"
   ]
  },
  {
   "cell_type": "markdown",
   "metadata": {
    "slideshow": {
     "slide_type": "fragment"
    }
   },
   "source": [
    "<center>  <img src=\"pics/GAN-faliures.png\">"
   ]
  },
  {
   "cell_type": "markdown",
   "metadata": {
    "slideshow": {
     "slide_type": "slide"
    }
   },
   "source": [
    "# Links:\n",
    "1. My Implementation: https://github.com/carnotaur/CycleGAN\n",
    "2. Paper page: https://junyanz.github.io/CycleGAN/\n",
    "2. tensorflow tutorial: https://hardikbansal.github.io/CycleGANBlog/ \n",
    "3. Training dataset: https://people.eecs.berkeley.edu/~taesung_park/CycleGAN/datasets/"
   ]
  },
  {
   "cell_type": "code",
   "execution_count": null,
   "metadata": {
    "slideshow": {
     "slide_type": "slide"
    }
   },
   "outputs": [],
   "source": []
  }
 ],
 "metadata": {
  "celltoolbar": "Slideshow",
  "kernelspec": {
   "display_name": "Python 3",
   "language": "python",
   "name": "python3"
  },
  "language_info": {
   "codemirror_mode": {
    "name": "ipython",
    "version": 3
   },
   "file_extension": ".py",
   "mimetype": "text/x-python",
   "name": "python",
   "nbconvert_exporter": "python",
   "pygments_lexer": "ipython3",
   "version": "3.7.1"
  }
 },
 "nbformat": 4,
 "nbformat_minor": 2
}
