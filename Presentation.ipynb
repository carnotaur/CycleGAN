{
 "cells": [
  {
   "cell_type": "markdown",
   "metadata": {
    "slideshow": {
     "slide_type": "slide"
    }
   },
   "source": [
    "<center> <img src=\"pics/logo.jpg\">"
   ]
  },
  {
   "cell_type": "markdown",
   "metadata": {
    "slideshow": {
     "slide_type": "subslide"
    }
   },
   "source": [
    "### <center> __CycleGAN: Image2Image__ <br/> \n",
    "<br/><br/>\n",
    " <center>  <img src=\"pics/cycle-gan-paintings.png\">"
   ]
  },
  {
   "cell_type": "markdown",
   "metadata": {
    "slideshow": {
     "slide_type": "subslide"
    }
   },
   "source": [
    "#### <center> Атабек Дулат - *Machine Learning Engineer* в Kolesa Group \n",
    "#### <center>  __Гитхаб с презентацией и кодом обучения сетки :__ \n",
    "#### <center> https://github.com/carnotaur/CycleGAN"
   ]
  },
  {
   "cell_type": "markdown",
   "metadata": {
    "slideshow": {
     "slide_type": "subslide"
    }
   },
   "source": [
    "# <center> __План:__\n",
    "<br/><br/>\n",
    "##  1. GANs повтор\n",
    "## 2. Image-to-Image translation\n",
    "## 3. CycleGAN - в чем фишка?\n",
    "## 4. Generator\n",
    "## 5. PatchGAN discriminator\n",
    "## 6. Training Details\n",
    "## 7. Limitations of CycleGAN"
   ]
  },
  {
   "cell_type": "markdown",
   "metadata": {
    "slideshow": {
     "slide_type": "slide"
    }
   },
   "source": [
    "# <center> Quick tour to GAN"
   ]
  },
  {
   "cell_type": "markdown",
   "metadata": {
    "slideshow": {
     "slide_type": "subslide"
    }
   },
   "source": [
    "<center>  <img src=\"pics/gans_basic.png\">"
   ]
  },
  {
   "cell_type": "markdown",
   "metadata": {
    "slideshow": {
     "slide_type": "subslide"
    }
   },
   "source": [
    "## <center> Classical Adversarial Loss\n",
    "<br>\n",
    "<center> $ G : X → Y $<br/>\n",
    "$ D_y  - Discriminator$ <br/><br/>\n",
    "$L_{GAN} (G, D_Y , X, Y ) = E_{y∼p_{data} (y)} [ log D_Y (y) ]\n",
    "+ E_{x∼p_{data}(x)} [log(1 − D_Y (G(x))]$"
   ]
  },
  {
   "cell_type": "markdown",
   "metadata": {
    "slideshow": {
     "slide_type": "slide"
    }
   },
   "source": [
    "# <center> CycleGAN\n",
    "<br>\n",
    " <center>  <img src=\"pics/teaser.jpg\">"
   ]
  },
  {
   "cell_type": "markdown",
   "metadata": {
    "slideshow": {
     "slide_type": "subslide"
    }
   },
   "source": [
    "# <center> Cycle Consistency\n",
    "<center> $G : X → Y $ <br>\n",
    "<center> $F : Y → X $ <br>\n",
    "<center> $x → G(x) → F (G(x)) ≈ x$\n",
    "<center>  <img src=\"pics/cycle-gan-idea.png\">"
   ]
  },
  {
   "cell_type": "markdown",
   "metadata": {
    "slideshow": {
     "slide_type": "subslide"
    }
   },
   "source": [
    "## <center> Example\n",
    "<center>  <img src=\"pics/reconstruction.png\">"
   ]
  },
  {
   "cell_type": "markdown",
   "metadata": {
    "slideshow": {
     "slide_type": "subslide"
    }
   },
   "source": [
    "## <center> Cycle Consistency Loss: <br/>\n",
    "<center> $L_{cyc} (G, F ) = E_{x∼p_{data}} (x) [||F (G(x)) − x||_1 ]\n",
    "+ E_{y∼p_{data}} (y) [||G(F (y)) − y||_1 ]$\n"
   ]
  },
  {
   "cell_type": "markdown",
   "metadata": {
    "slideshow": {
     "slide_type": "fragment"
    }
   },
   "source": [
    "## <center> Total GAN loss: <br/>\n",
    "<center> $ L(G, F, D_X , D_Y ) =L_{GAN} (G, D_Y , X, Y ) + L_{GAN} (F, D_X , Y, X)\n",
    "+ λL_{cyc} (G, F )$"
   ]
  },
  {
   "cell_type": "markdown",
   "metadata": {
    "slideshow": {
     "slide_type": "subslide"
    }
   },
   "source": [
    "## <center> Hyperparameters:"
   ]
  },
  {
   "cell_type": "code",
   "execution_count": 16,
   "metadata": {
    "slideshow": {
     "slide_type": "fragment"
    }
   },
   "outputs": [],
   "source": [
    "img_size = 256    # может быть 128\n",
    "num_epochs = 200\n",
    "batch_size = 1\n",
    "lr = 0.0002\n",
    "alpha, beta = 0.5, 0.9\n",
    "num_res_blocks = 6 if img_size == 128 else 9"
   ]
  },
  {
   "cell_type": "code",
   "execution_count": null,
   "metadata": {
    "slideshow": {
     "slide_type": "fragment"
    }
   },
   "outputs": [],
   "source": [
    "optimizer_G = torch.optim.Adam(itertools.chain(G_x.parameters(), G_y.parameters()),\n",
    "                               lr=lr, betas=(0.5, 0.999))\n",
    "optimizer_D = torch.optim.Adam(itertools.chain(D_x.parameters(), D_y.parameters()),\n",
    "                               lr=lr, betas=(0.5, 0.999))"
   ]
  },
  {
   "cell_type": "code",
   "execution_count": 12,
   "metadata": {
    "slideshow": {
     "slide_type": "fragment"
    }
   },
   "outputs": [
    {
     "ename": "NameError",
     "evalue": "name 'torch' is not defined",
     "output_type": "error",
     "traceback": [
      "\u001b[0;31m---------------------------------------------------------------------------\u001b[0m",
      "\u001b[0;31mNameError\u001b[0m                                 Traceback (most recent call last)",
      "\u001b[0;32m<ipython-input-12-21b85e488f19>\u001b[0m in \u001b[0;36m<module>\u001b[0;34m\u001b[0m\n\u001b[0;32m----> 1\u001b[0;31m scheduler_G = torch.optim.lr_scheduler.LambdaLR(optimizer_G, \n\u001b[0m\u001b[1;32m      2\u001b[0m                                                 lr_lambda=lambda epoch: 0.99 ** epoch)\n",
      "\u001b[0;31mNameError\u001b[0m: name 'torch' is not defined"
     ]
    }
   ],
   "source": [
    "scheduler_G = torch.optim.lr_scheduler.LambdaLR(optimizer_G, \n",
    "                                                lr_lambda=lambda epoch: 0.99 ** epoch)\n",
    "scheduler_D = torch.optim.lr_scheduler.LambdaLR(optimizer_D, \n",
    "                                                lr_lambda=lambda epoch: 0.99 ** epoch)"
   ]
  },
  {
   "cell_type": "markdown",
   "metadata": {
    "slideshow": {
     "slide_type": "fragment"
    }
   },
   "source": [
    "<center>  <img src=\"pics/cycleloss-comparison.png\">"
   ]
  },
  {
   "cell_type": "markdown",
   "metadata": {
    "slideshow": {
     "slide_type": "slide"
    }
   },
   "source": [
    "## <center> Identity Loss\n",
    "## <center> Используется для сохранения цветов при _Style Transferring_\n",
    "<center> $L_{identity} (G, F ) = E_{y∼p_{data}(y)}  [||G(y) − y||_1 ] +\n",
    "E_{x∼p_{data}(x)} [||F (x) − x||_1 ]$"
   ]
  },
  {
   "cell_type": "markdown",
   "metadata": {
    "slideshow": {
     "slide_type": "fragment"
    }
   },
   "source": [
    "<center>  <img src=\"pics/identity-loss-comparison.png\">"
   ]
  },
  {
   "cell_type": "markdown",
   "metadata": {
    "slideshow": {
     "slide_type": "slide"
    }
   },
   "source": [
    "# <center> Generator"
   ]
  },
  {
   "cell_type": "markdown",
   "metadata": {
    "slideshow": {
     "slide_type": "fragment"
    }
   },
   "source": [
    "<center>  <img src=\"pics/GeneratorArchitecture.jpg\">"
   ]
  },
  {
   "cell_type": "markdown",
   "metadata": {
    "slideshow": {
     "slide_type": "subslide"
    }
   },
   "source": [
    "!CODE"
   ]
  },
  {
   "cell_type": "markdown",
   "metadata": {
    "slideshow": {
     "slide_type": "slide"
    }
   },
   "source": [
    "# <center> Discriminator a.k.a PatchGAN"
   ]
  },
  {
   "cell_type": "markdown",
   "metadata": {
    "slideshow": {
     "slide_type": "fragment"
    }
   },
   "source": [
    "<center>  <img src=\"pics/pathcgan.png\">"
   ]
  },
  {
   "cell_type": "markdown",
   "metadata": {
    "slideshow": {
     "slide_type": "subslide"
    }
   },
   "source": [
    "<center>  <img src=\"pics/discriminator.jpg\">"
   ]
  },
  {
   "cell_type": "markdown",
   "metadata": {},
   "source": [
    "!CODE"
   ]
  },
  {
   "cell_type": "markdown",
   "metadata": {
    "slideshow": {
     "slide_type": "slide"
    }
   },
   "source": [
    "# <center> Training Details\n",
    "*Training GANs consists in finding a Nash equilibrium to a two-player non-cooperative game. […] Unfortunately, finding Nash equilibria is a very difficult problem.*\n",
    "    \n",
    " "
   ]
  },
  {
   "cell_type": "markdown",
   "metadata": {
    "slideshow": {
     "slide_type": "subslide"
    }
   },
   "source": [
    "### <center/>Adversarial Loss for CycleGAN: </center>  <br/>\n",
    "for Generator: <br/>\n",
    "<center/> $min \\hspace{0.25cm} E_{x∼p_{data (x)}} [(D(G(x)) − 1) ^ 2 ]$ </center> \n",
    "<br/>\n",
    "for Discriminator: <br/>\n",
    "<center/> $min \\hspace{0.25cm} E_{y∼p data (y)} [(D(y) − 1)^2 ] + E_{x∼p data (x)}  [D(G(x))^2 ]$</center>"
   ]
  },
  {
   "cell_type": "markdown",
   "metadata": {
    "slideshow": {
     "slide_type": "slide"
    }
   },
   "source": [
    "# <center> GAN Failures"
   ]
  },
  {
   "cell_type": "markdown",
   "metadata": {
    "slideshow": {
     "slide_type": "fragment"
    }
   },
   "source": [
    "<center>  <img src=\"pics/GAN-faliures.png\">"
   ]
  },
  {
   "cell_type": "markdown",
   "metadata": {
    "slideshow": {
     "slide_type": "subslide"
    }
   },
   "source": [
    "# <center>  Reasons\n",
    " 1. No spatial transformations\n",
    " 2. PatchGAN\n",
    " 3. !!!"
   ]
  },
  {
   "cell_type": "markdown",
   "metadata": {
    "slideshow": {
     "slide_type": "slide"
    }
   },
   "source": [
    "# Links:\n",
    "1. https://junyanz.github.io/CycleGAN/\n",
    "2. https://hardikbansal.github.io/CycleGANBlog/ \n",
    "3. \n",
    "4. "
   ]
  },
  {
   "cell_type": "code",
   "execution_count": 23,
   "metadata": {
    "slideshow": {
     "slide_type": "slide"
    }
   },
   "outputs": [
    {
     "name": "stdout",
     "output_type": "stream",
     "text": [
      "Спасибо за просмотр!!!\n"
     ]
    },
    {
     "data": {
      "image/png": "[encoded data removed]",
      "text/plain": [
       "<Figure size 1080x720 with 1 Axes>"
      ]
     },
     "metadata": {},
     "output_type": "display_data"
    }
   ],
   "source": [
    "from Thanks import MakeThanks\n",
    "MakeThanks.show_thanks()"
   ]
  },
  {
   "cell_type": "code",
   "execution_count": null,
   "metadata": {},
   "outputs": [],
   "source": []
  }
 ],
 "metadata": {
  "celltoolbar": "Slideshow",
  "kernelspec": {
   "display_name": "Python 3",
   "language": "python",
   "name": "python3"
  },
  "language_info": {
   "codemirror_mode": {
    "name": "ipython",
    "version": 3
   },
   "file_extension": ".py",
   "mimetype": "text/x-python",
   "name": "python",
   "nbconvert_exporter": "python",
   "pygments_lexer": "ipython3",
   "version": "3.7.1"
  }
 },
 "nbformat": 4,
 "nbformat_minor": 2
}
